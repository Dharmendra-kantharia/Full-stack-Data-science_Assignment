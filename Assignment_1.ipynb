{
 "cells": [
  {
   "cell_type": "markdown",
   "id": "67d81fa0",
   "metadata": {},
   "source": [
    "                          Assignment-1"
   ]
  },
  {
   "cell_type": "markdown",
   "id": "e0914bbb",
   "metadata": {},
   "source": [
    "1. In the below elements which of them are values or an expression? eg:- values can be integer or string and expressions will be mathematical operators.\n",
    "* \n",
    "'hello'\n",
    "-87.8\n",
    "- \n",
    "/ \n",
    "+\n",
    "6 \n"
   ]
  },
  {
   "cell_type": "markdown",
   "id": "a7fa0f77",
   "metadata": {},
   "source": [
    "Ans: \n",
    "\n",
    "Values     :'Hello' , -87.8 , 6    \n",
    "\n",
    "Expression : - , / , + "
   ]
  },
  {
   "cell_type": "markdown",
   "id": "cc0fe93e",
   "metadata": {},
   "source": [
    "2. What is the difference between string and variable?"
   ]
  },
  {
   "cell_type": "markdown",
   "id": "83b2d3ea",
   "metadata": {},
   "source": [
    "Ans: \n",
    "\n",
    "String : String we can write in quotes like \"Dharmendra\" \"Hello\n",
    "\n",
    "Variable :Variable is a property that can take any value and string                is a type of information that we can store in variable"
   ]
  },
  {
   "cell_type": "markdown",
   "id": "23722d71",
   "metadata": {},
   "source": [
    "3. Describe three different data types."
   ]
  },
  {
   "cell_type": "markdown",
   "id": "ee98a67e",
   "metadata": {},
   "source": [
    "Ans : \n",
    "\n",
    "Integer - Whole number (1,250,300) \n",
    "\n",
    "Floating - Number with decimal point(10.5,1.5,32.5)\n",
    "      \n",
    "Boolean - Characters (True or False)"
   ]
  },
  {
   "cell_type": "markdown",
   "id": "cd3e42ac",
   "metadata": {},
   "source": [
    "4. What is an expression made up of? What do all expressions do?"
   ]
  },
  {
   "cell_type": "markdown",
   "id": "1777911e",
   "metadata": {},
   "source": [
    "Ans: \n",
    "\n",
    "Expression made up values,containers and mathematical operators and expression are used to evaluate the values or represent the result"
   ]
  },
  {
   "cell_type": "markdown",
   "id": "8a55bb44",
   "metadata": {},
   "source": [
    "5.This assignment statements, like spam = 10. What is the difference between an expression and a statement?"
   ]
  },
  {
   "cell_type": "markdown",
   "id": "cdad2c58",
   "metadata": {},
   "source": [
    "Ans:\n",
    "\n",
    "Expression is made up of values, containers, and mathematical operators \n",
    "and the statement is just like a command that a python interpreter \n",
    "executes like print."
   ]
  },
  {
   "attachments": {},
   "cell_type": "markdown",
   "id": "4857a44a",
   "metadata": {},
   "source": [
    "6.After running the following code, what does the variable bacon contain?\n",
    "\n",
    "bacon = 22\n",
    "bacon + 1"
   ]
  },
  {
   "cell_type": "markdown",
   "id": "96f03dbe",
   "metadata": {},
   "source": [
    "Ans:\n",
    "\n",
    "bacon = 22\n",
    "bacon +1\n",
    "23"
   ]
  },
  {
   "attachments": {},
   "cell_type": "markdown",
   "id": "1c1096cf",
   "metadata": {},
   "source": [
    "7. What should the values of the following two terms be?\n",
    "\n",
    "'spam' + 'spamspam'\n",
    "'spam' * 3\n"
   ]
  },
  {
   "cell_type": "code",
   "execution_count": 10,
   "id": "80fa40ee",
   "metadata": {},
   "outputs": [
    {
     "data": {
      "text/plain": [
       "'spamspamspam'"
      ]
     },
     "execution_count": 10,
     "metadata": {},
     "output_type": "execute_result"
    }
   ],
   "source": [
    "'spam' + 'spamspam'"
   ]
  },
  {
   "cell_type": "code",
   "execution_count": 11,
   "id": "c79ab401",
   "metadata": {},
   "outputs": [
    {
     "data": {
      "text/plain": [
       "'spamspamspam'"
      ]
     },
     "execution_count": 11,
     "metadata": {},
     "output_type": "execute_result"
    }
   ],
   "source": [
    "'spam'*3"
   ]
  },
  {
   "cell_type": "markdown",
   "id": "d68e970d",
   "metadata": {},
   "source": [
    "8. Why is eggs a valid variable name while 100 is invalid?"
   ]
  },
  {
   "cell_type": "markdown",
   "id": "a3b18771",
   "metadata": {},
   "source": [
    "Ans:\n",
    "Because we can not start variable as an integer name.\n",
    "it should be start with alphabet,We can give integer with string like first alphbet then integer \"eggs100\""
   ]
  },
  {
   "cell_type": "markdown",
   "id": "42805e8f",
   "metadata": {},
   "source": [
    "9.What three functions can be used to get the integer, floating-point number, or string version of a value?"
   ]
  },
  {
   "cell_type": "markdown",
   "id": "20159316",
   "metadata": {},
   "source": [
    "Ans:\n",
    "str()\n",
    "int()\n",
    "float()"
   ]
  },
  {
   "cell_type": "markdown",
   "id": "3176f3cc",
   "metadata": {},
   "source": [
    "10. Why does this expression cause an error? How can you fix it?\n",
    "'I have eaten ' + 99 + ' burritos.'\n"
   ]
  },
  {
   "cell_type": "markdown",
   "id": "f21e87db",
   "metadata": {},
   "source": [
    "Ans:\n",
    "because 99 is an integer it cannot be concatenated with strings, if we have to concatenate it we need to do typecasting."
   ]
  }
 ],
 "metadata": {
  "kernelspec": {
   "display_name": "Python 3",
   "language": "python",
   "name": "python3"
  },
  "language_info": {
   "codemirror_mode": {
    "name": "ipython",
    "version": 3
   },
   "file_extension": ".py",
   "mimetype": "text/x-python",
   "name": "python",
   "nbconvert_exporter": "python",
   "pygments_lexer": "ipython3",
   "version": "3.8.8"
  }
 },
 "nbformat": 4,
 "nbformat_minor": 5
}
